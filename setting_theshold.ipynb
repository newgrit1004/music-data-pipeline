{
 "cells": [
  {
   "cell_type": "code",
   "execution_count": 1,
   "metadata": {},
   "outputs": [],
   "source": [
    "from func.video_preprocessing import different_lyrics_detect\n",
    "def setting_threshold(song_folder:str, threshold:float):\n",
    "    \"\"\"유튜버별로 가사 노출방법이 다르기 때문에, 그걸 조정하기 위한 세팅함수.\"\"\"\n",
    "    video_file_path = f'./gray_cropped_video/{song_folder}/{song_folder}.mp4'\n",
    "    scene_info_list = different_lyrics_detect(video_file_path, threshold, song_folder)\n",
    "    return scene_info_list"
   ]
  },
  {
   "cell_type": "code",
   "execution_count": 2,
   "metadata": {},
   "outputs": [],
   "source": [
    "from utils.utils import load_lyric_url\n",
    "youtuber_song_url_dict = load_lyric_url()"
   ]
  },
  {
   "cell_type": "code",
   "execution_count": 8,
   "metadata": {},
   "outputs": [
    {
     "name": "stdout",
     "output_type": "stream",
     "text": [
      "밤편지\n",
      "25 scenes detected!\n"
     ]
    }
   ],
   "source": [
    "for youtuber, song_url in youtuber_song_url_dict.items():\n",
    "    for song_title in song_url.keys():\n",
    "        if youtuber == 'Mon.Starlight':\n",
    "            print(song_title)\n",
    "            tmp = setting_threshold(song_title, 3)"
   ]
  },
  {
   "cell_type": "code",
   "execution_count": null,
   "metadata": {},
   "outputs": [],
   "source": [
    "from func.video_preprocessing import load_scene_ocr_info, get_ocr_list,get_total_scene_info\n",
    "from utils.utils import load_song_dict, load_scene_time_info\n",
    "from pathlib import Path\n",
    "scene_paths = sorted(Path('./scenes/Love poem').glob('*.jpg'))\n",
    "scene_ocr_info_list, no_lyric_scene_idx_list = load_scene_ocr_info(scene_paths)"
   ]
  },
  {
   "cell_type": "code",
   "execution_count": null,
   "metadata": {},
   "outputs": [],
   "source": [
    "len(scene_ocr_info_list)"
   ]
  }
 ],
 "metadata": {
  "kernelspec": {
   "display_name": "Python 3.8.10 64-bit ('3.8.10')",
   "language": "python",
   "name": "python3"
  },
  "language_info": {
   "codemirror_mode": {
    "name": "ipython",
    "version": 3
   },
   "file_extension": ".py",
   "mimetype": "text/x-python",
   "name": "python",
   "nbconvert_exporter": "python",
   "pygments_lexer": "ipython3",
   "version": "3.8.10"
  },
  "orig_nbformat": 4,
  "vscode": {
   "interpreter": {
    "hash": "c5b1b2850ff8054a76258c9831b12c7189726e2989c55e227586438bf8bddd71"
   }
  }
 },
 "nbformat": 4,
 "nbformat_minor": 2
}
