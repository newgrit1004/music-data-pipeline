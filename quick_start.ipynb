{
 "cells": [
  {
   "cell_type": "code",
   "execution_count": 2,
   "metadata": {},
   "outputs": [],
   "source": [
    "import pickle\n",
    "with open('./file/pickle/scene_object_list.pkl', 'rb') as f:\n",
    "    scene_object_list = pickle.load(f)\n",
    "\n",
    "from utils.utils import load_song_dict\n",
    "song_lyrics = load_song_dict()"
   ]
  },
  {
   "cell_type": "code",
   "execution_count": 5,
   "metadata": {},
   "outputs": [],
   "source": [
    "from utils.utils import findall\n",
    "from hanspell import spell_checker\n",
    "def find_origin_lyric(ocr_lyric:str, origin_lyric:str):\n",
    "    length = len(ocr_lyric)\n",
    "    checked_ocr = spell_checker.check(ocr_lyric).as_dict()['checked']\n",
    "    first_word = checked_ocr.split(' ')[0]\n",
    "    same_word_idx_in_origin = tuple(findall(first_word, origin_lyric))\n",
    "    if len(same_word_idx_in_origin) == 1:\n",
    "        return origin_lyric[same_word_idx_in_origin[0]:same_word_idx_in_origin[0]+length]\n",
    "    else:\n",
    "        last_word = ' '.join(checked_ocr.split(' ')[-2:])\n",
    "        same_word_idx_in_origin = tuple(findall(last_word, origin_lyric))\n",
    "        last_length = len(last_word)\n",
    "        return origin_lyric[same_word_idx_in_origin[0]-length+last_length:same_word_idx_in_origin[0]+last_length]"
   ]
  },
  {
   "cell_type": "code",
   "execution_count": 6,
   "metadata": {},
   "outputs": [],
   "source": [
    "origin_lyric = song_lyrics['strawberry moon']['total_lyric']\n",
    "ocr_lyric = scene_object_list[3].ocr_lyrics"
   ]
  },
  {
   "cell_type": "code",
   "execution_count": 10,
   "metadata": {},
   "outputs": [
    {
     "name": "stdout",
     "output_type": "stream",
     "text": [
      "푸르른 우리 위로 커다란 strawberry moon 한 스톱\n",
      "나에게 너름 맡겨불래 eh-oh 바람을 세로질러\n",
      "푸르른 우리 위로 커다란 strawberry moon 한 스톱\n",
      "나에게 너름 맡겨불래 eh-oh 바람을 세로질러\n",
      "푸르른 우리 위로 커다란 strawberry moon 한 스톱\n",
      "푸르른 우리 위로 커다란 strawberry moon 한 스톱\n",
      "이론 아침 작은 새들 노랫소리 들려오면 언제나 그탤듯 아쉽게 잠을 괜다\n",
      "응석만 부딪던 내권\n",
      "응석만 부딪던 내권\n",
      "문구름 쫓앞던 내권\n",
      "이론 아침 작은 새들 노랫소리 들려오면 언제나 그렇듯 아쉽게 잠율 괜다\n",
      "오라일락 꽂이 지논 날 bye 이런 걸말이 어울려 안녕 꽃잎 같은 안녕 good\n",
      "'뭐해? '라는 두 글자에 '네가 보고 싶어' 나의 속마음올 담아우\n",
      "우리의 네모 칸은 bloom 엄지손가락으로 장미슬올 피위\n",
      "우리의 색은 gray and blue 엄지손가락으로 말풍선올 띄위\n",
      "띄어쓰기없이보벌계사랑인것갈애 백만송이장미꽃올 나랑피위블래?\n",
      "우리의 네모 칸은 bloom 엄지손가락으로 장미꽃올 피위\n",
      "년 모르지 아직 못다 팬 널 위해 쓰여진 오래된 사랑시\n",
      "아주 커다란 숨올 쉬어 화 소리 내 우는 법올 잊은 널 위해 부름게\n",
      "너의 긴 밤이 끝나는 그날 고개름 들어 바라본 그곳에 있율게\n",
      "새 삼무름 사러 가야지 아침 하늘빛의 민트향이면 어떻까\n",
      "난다시 꿈을 꾸게 되없어 그대름 만나고부터\n",
      "비물기름 안은 아이같이 행복해쥐 나름 위해서\n",
      "그대 나의 초라한 마음을 받아준 순간부터 활라라랗라\n",
      "난다시 꿈을 꾸게 되없어 그대름 만나고부터\n",
      "'\n",
      "가슴이 막 박차 서러워 ' 조금만 꼭 참고 날 기다려쥐\n",
      "'\n",
      "가슴이 막 박차 서러워 ' 조금만 꼭 참고 날 기다려쥐\n",
      "네가 있던 미래에서 ' 내 이름올 불러쥐\n",
      "눈감박하면 어른이 덜 거에요 날알아보켓조 그민 기억하켓조\n",
      "'\n",
      "조금만 더 빨리 날아화 ' 두 눈올 꼭 감고 마법올 건다\n",
      "너량 나랑은 조금 남앞지 몇날 몇실진 모르젯지만\n",
      "너름 알아볼 수 잇게 ' 내 이름올 불러쥐\n",
      "그대름 보미 나는 더운 숨올 쉬어요 아픔 기분이 드는 건 그 때문이켓조\n",
      "나름 알아주지 않으서도 돼요 찾아오지 않으서도\n",
      "눈올 떼지 못 해 하루종일 눈이 시려요 슬곧 기분이 드는 건 그 때문이켓조\n",
      "서로트 감아 포개어진 삶 그들올 가만 내려보논달\n",
      "무릎올 베고 누우면 나 아주 어질 적 그렇든 것처럼 머리칼올 넘겨주요\n",
      "그대 있는 곳에 돌아갈 수 있는 지름길이 있다면 좋깊어\n",
      "무릎올 베고 누우면 나 아주 어질 적 그렇든 것처럼 머리칼올 넘겨주요\n",
      "나 실은말이야 저기 아득한 미래로부터 날아왕어\n",
      "이하루 이 지금 우리 눈부서 아름다위\n",
      "이 불꽃놀이는 끝나지 않을 거야 Ooh Whatever\n"
     ]
    }
   ],
   "source": [
    "for scene in scene_object_list:\n",
    "    if scene.ocr_lyrics is None:\n",
    "        continue\n",
    "    else:\n",
    "        if scene.song_name in song_lyrics.keys():\n",
    "            try:\n",
    "                scene.corrected_lyrics = find_origin_lyric(scene.ocr_lyrics, song_lyrics[scene.song_name]['total_lyric'])\n",
    "            except IndexError:\n",
    "                print(scene.ocr_lyrics)\n",
    "            except KeyError:\n",
    "                print(scene.song_name)\n"
   ]
  }
 ],
 "metadata": {
  "kernelspec": {
   "display_name": "Python 3.8.10 64-bit ('3.8.10')",
   "language": "python",
   "name": "python3"
  },
  "language_info": {
   "codemirror_mode": {
    "name": "ipython",
    "version": 3
   },
   "file_extension": ".py",
   "mimetype": "text/x-python",
   "name": "python",
   "nbconvert_exporter": "python",
   "pygments_lexer": "ipython3",
   "version": "3.8.10"
  },
  "orig_nbformat": 4,
  "vscode": {
   "interpreter": {
    "hash": "c5b1b2850ff8054a76258c9831b12c7189726e2989c55e227586438bf8bddd71"
   }
  }
 },
 "nbformat": 4,
 "nbformat_minor": 2
}
