{
 "cells": [
  {
   "cell_type": "markdown",
   "metadata": {},
   "source": [
    "# 음원에서 MR제거를 한 가수 목소리 데이터(vocals.wav)에 대해 침묵/비침묵 구간으로 음성 데이터를 자르기"
   ]
  },
  {
   "cell_type": "code",
   "execution_count": null,
   "metadata": {},
   "outputs": [],
   "source": [
    "from func.audio_preprocessing import normalize_amplitude, get_time_segments\n",
    "from pydub import AudioSegment\n",
    "sound = AudioSegment.from_file('./output/무릎/vocals.wav', \"wav\")\n",
    "normalized_sound = normalize_amplitude(sound, -20.0)\n",
    "jsons = get_time_segments(normalized_sound, 1500)"
   ]
  },
  {
   "cell_type": "code",
   "execution_count": 2,
   "metadata": {},
   "outputs": [
    {
     "data": {
      "text/plain": [
       "[{'start': 0, 'end': 18655, 'tag': 'silence'},\n",
       " {'start': 18655, 'end': 30300, 'tag': 'nonsilence'},\n",
       " {'start': 30100, 'end': 31915, 'tag': 'silence'},\n",
       " {'start': 31715, 'end': 65853, 'tag': 'nonsilence'},\n",
       " {'start': 65653, 'end': 67166, 'tag': 'silence'},\n",
       " {'start': 66966, 'end': 114888, 'tag': 'nonsilence'},\n",
       " {'start': 114688, 'end': 117963, 'tag': 'silence'},\n",
       " {'start': 117763, 'end': 125150, 'tag': 'nonsilence'},\n",
       " {'start': 124950, 'end': 135107, 'tag': 'silence'},\n",
       " {'start': 134907, 'end': 146959, 'tag': 'nonsilence'},\n",
       " {'start': 146759, 'end': 148322, 'tag': 'silence'},\n",
       " {'start': 148122, 'end': 160142, 'tag': 'nonsilence'},\n",
       " {'start': 159942, 'end': 162960, 'tag': 'silence'},\n",
       " {'start': 162760, 'end': 231353, 'tag': 'nonsilence'},\n",
       " {'start': 231153, 'end': 234413, 'tag': 'silence'},\n",
       " {'start': 234213, 'end': 245559, 'tag': 'nonsilence'},\n",
       " {'start': 245359, 'end': 248605, 'tag': 'silence'},\n",
       " {'start': 248405, 'end': 282958, 'tag': 'nonsilence'}]"
      ]
     },
     "execution_count": 2,
     "metadata": {},
     "output_type": "execute_result"
    }
   ],
   "source": [
    "\"\"\"\n",
    "jsons:List[str, Union[float, str]]:\n",
    "    jsons는 'start', 'end', 'tag'라는 3개의 키를 가진 딕셔너리를 원소로 갖는 리스트로 되어있다.\n",
    "    jsons의 각 원소는 'start'와 'end'의 단위는 ms이다.(e.g. 'end':18655 = 18.655 second)\n",
    "    'tag'는 silience(침묵), nonslience(비침묵)을 이용한다.\n",
    "\"\"\"\n",
    "jsons"
   ]
  },
  {
   "cell_type": "code",
   "execution_count": 3,
   "metadata": {},
   "outputs": [
    {
     "name": "stdout",
     "output_type": "stream",
     "text": [
      "['./output/하루끝/vocals.wav', './output/아이유나의옛날이야기/vocals.wav', './output/복숭아/vocals.wav', './output/아이유겨울잠가사/vocals.wav', './output/밤편지/vocals.wav', './output/이름에게/vocals.wav', './output/아이와나의바다/vocals.wav', './output/시간의바깥/vocals.wav', './output/무릎/vocals.wav', './output/느리게하는일/vocals.wav', './output/아이유푸르던/vocals.wav', './output/아이유정거장가사/vocals.wav', './output/첫이별그날밤/vocals.wav', './output/마음/vocals.wav', './output/나만몰랐던이야기/vocals.wav']\n"
     ]
    }
   ],
   "source": [
    "\"\"\"\n",
    "voice separation 라이브러리인 spleeter를 이용하여 분리된 음성 폴더를 './output/'폴더에 곡별로 모아두었다.\n",
    "\"\"\"\n",
    "\n",
    "\n",
    "import os\n",
    "output_path = './output'\n",
    "vocal_wavs = [os.path.join(output_path, song_name, 'vocals.wav') for song_name in os.listdir(output_path)]\n",
    "print(vocal_wavs)"
   ]
  },
  {
   "cell_type": "code",
   "execution_count": 5,
   "metadata": {},
   "outputs": [],
   "source": [
    "from func.audio_preprocessing import nonsilence_segmentation\n",
    "\"\"\"\n",
    "#TODO: 현재 경로에 TTS_training_data라는 폴더를 만들어주어야 동작하며, 곡 명이 겹치는 폴더가 존재할 경우 동작하지 않아 곡명 폴더는 다 삭제해주어야 한다.\n",
    "하단의 반복문이 실행되면  TTS_training_data라는 폴더에 /TTS_training_data/노래이름/노래이름_start_end.wav 방식으로 비침묵 tag를 갖고 있던 노래 구간만 잘리게 된다.\n",
    "e.g. '/TTS_training_data/무릎/무릎_18655_30300.wav'\n",
    "\n",
    "\"\"\"\n",
    "for vocal_wav in vocal_wavs:\n",
    "    nonsilence_segmentation(vocal_wav)"
   ]
  }
 ],
 "metadata": {
  "kernelspec": {
   "display_name": "Python 3.8.10 64-bit ('3.8.10')",
   "language": "python",
   "name": "python3"
  },
  "language_info": {
   "codemirror_mode": {
    "name": "ipython",
    "version": 3
   },
   "file_extension": ".py",
   "mimetype": "text/x-python",
   "name": "python",
   "nbconvert_exporter": "python",
   "pygments_lexer": "ipython3",
   "version": "3.8.10"
  },
  "orig_nbformat": 4,
  "vscode": {
   "interpreter": {
    "hash": "c5b1b2850ff8054a76258c9831b12c7189726e2989c55e227586438bf8bddd71"
   }
  }
 },
 "nbformat": 4,
 "nbformat_minor": 2
}
