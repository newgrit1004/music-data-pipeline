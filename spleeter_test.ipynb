{
 "cells": [
  {
   "cell_type": "code",
   "execution_count": 1,
   "metadata": {},
   "outputs": [
    {
     "name": "stdout",
     "output_type": "stream",
     "text": [
      "Total number of the videos : 15\n"
     ]
    }
   ],
   "source": [
    "from utils.downloader import PlaylistDownloader\n",
    "\n",
    "pl_url = \"https://www.youtube.com/playlist?list=PLsfJ2mUcLwQcnnhY8Rovb3usz8gfTsiZ7\"\n",
    "pl = PlaylistDownloader(pl_url)"
   ]
  },
  {
   "cell_type": "code",
   "execution_count": 2,
   "metadata": {},
   "outputs": [],
   "source": [
    "playlist_download_folder_name = 'playlist_download_test'"
   ]
  },
  {
   "cell_type": "code",
   "execution_count": 2,
   "metadata": {},
   "outputs": [],
   "source": [
    "# 현재 주피터 노트북이 실행되는 경로에 playlist_download_folder_name에 해당하는 이름으로 폴더를 만든 뒤,\n",
    "# pl_url에 있는 유튜브 비디오를 다운로드 받는다.\n",
    "pl.download(playlist_download_folder_name)"
   ]
  },
  {
   "cell_type": "code",
   "execution_count": 5,
   "metadata": {},
   "outputs": [
    {
     "name": "stdout",
     "output_type": "stream",
     "text": [
      "youtube mp4 to mp3 convert complete\n"
     ]
    }
   ],
   "source": [
    "# playlist_donwload_folder_name에 들어있는 mp4 파일을 mp3 파일로 변경합니다.\n",
    "from utils.converter import mp4_to_mp3, youtube_mp3_to_wav\n",
    "mp4_to_mp3(playlist_download_folder_name)"
   ]
  },
  {
   "cell_type": "code",
   "execution_count": 7,
   "metadata": {},
   "outputs": [],
   "source": [
    "# mp3파일을 wav파일로 확장자 변환 및 정규표현식을 사용하여 파일명에 들어가는 띄어쓰기나 영어 등을 제거합니다.\n",
    "from glob import glob\n",
    "from utils.converter import youtube_mp3_to_wav\n",
    "all_mp3 = glob(f'./{playlist_download_folder_name}/*.mp3')\n",
    "wav_generator = map(lambda x: youtube_mp3_to_wav(x, None), all_mp3)\n"
   ]
  },
  {
   "cell_type": "code",
   "execution_count": 8,
   "metadata": {},
   "outputs": [
    {
     "name": "stdout",
     "output_type": "stream",
     "text": [
      "youtube mp3 to wav convert complete\n",
      "youtube mp3 to wav convert complete\n",
      "youtube mp3 to wav convert complete\n",
      "youtube mp3 to wav convert complete\n",
      "youtube mp3 to wav convert complete\n",
      "youtube mp3 to wav convert complete\n",
      "youtube mp3 to wav convert complete\n",
      "youtube mp3 to wav convert complete\n",
      "youtube mp3 to wav convert complete\n",
      "youtube mp3 to wav convert complete\n",
      "youtube mp3 to wav convert complete\n",
      "youtube mp3 to wav convert complete\n",
      "youtube mp3 to wav convert complete\n",
      "youtube mp3 to wav convert complete\n",
      "youtube mp3 to wav convert complete\n"
     ]
    }
   ],
   "source": [
    "while True:\n",
    "    try:\n",
    "        next(wav_generator)\n",
    "    except StopIteration:\n",
    "        break\n"
   ]
  },
  {
   "cell_type": "markdown",
   "metadata": {},
   "source": [
    "# wav 파일 spleeter로 돌리기"
   ]
  },
  {
   "cell_type": "code",
   "execution_count": 3,
   "metadata": {},
   "outputs": [],
   "source": [
    "from glob import glob\n",
    "wav_files = glob(f'./{playlist_download_folder_name}/*.wav')"
   ]
  },
  {
   "cell_type": "code",
   "execution_count": 4,
   "metadata": {},
   "outputs": [
    {
     "data": {
      "text/plain": [
       "['./playlist_download_test/아이와나의바다.wav',\n",
       " './playlist_download_test/이름에게.wav',\n",
       " './playlist_download_test/느리게하는일.wav',\n",
       " './playlist_download_test/하루끝.wav',\n",
       " './playlist_download_test/무릎.wav',\n",
       " './playlist_download_test/아이유겨울잠가사.wav',\n",
       " './playlist_download_test/아이유나의옛날이야기.wav',\n",
       " './playlist_download_test/첫이별그날밤.wav',\n",
       " './playlist_download_test/복숭아.wav',\n",
       " './playlist_download_test/마음.wav',\n",
       " './playlist_download_test/아이유푸르던.wav',\n",
       " './playlist_download_test/밤편지.wav',\n",
       " './playlist_download_test/나만몰랐던이야기.wav',\n",
       " './playlist_download_test/아이유정거장가사.wav',\n",
       " './playlist_download_test/시간의바깥.wav']"
      ]
     },
     "execution_count": 4,
     "metadata": {},
     "output_type": "execute_result"
    }
   ],
   "source": [
    "wav_files"
   ]
  },
  {
   "cell_type": "code",
   "execution_count": 5,
   "metadata": {},
   "outputs": [
    {
     "name": "stdout",
     "output_type": "stream",
     "text": [
      "voice_isolation('./playlist_download_test/무릎.wav',) stated at 15:56:39\n",
      "spleeter separate -p spleeter:2stems -o ./vocal_isolation ./playlist_download_test/무릎.wav\n",
      "INFO:spleeter:File vocal_isolation/무릎/vocals.wav written succesfully\n",
      "INFO:spleeter:File vocal_isolation/무릎/accompaniment.wav written succesfully\n",
      "voice_isolation('./playlist_download_test/무릎.wav',) finish at 15:57:16, total:36.85407996177673 sec(s)\n"
     ]
    }
   ],
   "source": [
    "from func.audio_preprocessing import voice_isolation\n",
    "for wav_file in wav_files:\n",
    "    wav_file = './playlist_download_test/무릎.wav'\n",
    "    voice_isolation(wav_file)\n",
    "    break"
   ]
  }
 ],
 "metadata": {
  "kernelspec": {
   "display_name": "Python 3.8.10 64-bit ('3.8.10')",
   "language": "python",
   "name": "python3"
  },
  "language_info": {
   "codemirror_mode": {
    "name": "ipython",
    "version": 3
   },
   "file_extension": ".py",
   "mimetype": "text/x-python",
   "name": "python",
   "nbconvert_exporter": "python",
   "pygments_lexer": "ipython3",
   "version": "3.8.10"
  },
  "orig_nbformat": 4,
  "vscode": {
   "interpreter": {
    "hash": "c5b1b2850ff8054a76258c9831b12c7189726e2989c55e227586438bf8bddd71"
   }
  }
 },
 "nbformat": 4,
 "nbformat_minor": 2
}
