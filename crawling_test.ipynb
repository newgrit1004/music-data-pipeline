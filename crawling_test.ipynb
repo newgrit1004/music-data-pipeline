{
 "cells": [
  {
   "cell_type": "markdown",
   "metadata": {},
   "source": [
    "# MelonCrawler 모듈 노래 1개에 대해 불러오는 테스트 코드"
   ]
  },
  {
   "cell_type": "code",
   "execution_count": 1,
   "metadata": {},
   "outputs": [
    {
     "name": "stdout",
     "output_type": "stream",
     "text": [
      "next_index : 151\n"
     ]
    }
   ],
   "source": [
    "#single song\n",
    "from utils.crawler import MelonCrawler\n",
    "crawler = MelonCrawler()\n",
    "singer_name = '아이유'\n",
    "target_song = '미아'\n",
    "crawler.search_singer(singer_name)\n",
    "artist_id = crawler.get_artist_id()\n",
    "song_id_list, song_title_list, next_page_index_list = crawler.get_song_list()\n",
    "# song = crawler.get_lyrics(target_song, song_id_list, song_title_list)\n",
    "song = crawler.find_target_song_lyrics(target_song)"
   ]
  },
  {
   "cell_type": "code",
   "execution_count": 2,
   "metadata": {},
   "outputs": [
    {
     "name": "stdout",
     "output_type": "stream",
     "text": [
      "<model.song.Song object at 0x7ff2dbf80880>\n"
     ]
    }
   ],
   "source": [
    "print(song)"
   ]
  },
  {
   "cell_type": "code",
   "execution_count": 3,
   "metadata": {},
   "outputs": [
    {
     "data": {
      "text/plain": [
       "'우리 둘 담아 준 사진을 태워 하나 둘 모아 둔 기억을 지워 그만 일어나 가야 하는 걸 너무 잘 알고 있는데 왜 난 주저 앉고 마는지 쏟아지는 빗물은 날 한치 앞도 못 보게 해 몰아치는 바람은 단 한 걸음도 못 가게 해 벼랑 끝에 서 있는 듯이 난 무서워 떨고 있지만 작은 두 손을 모은 내 기도는 하나 뿐이야 돌아와  이제는 눈물도 나오지 않아 울먹일 힘마저 없는것 같아 우리 이별이 꿈이 아닌 걸 너무 잘 알고 있는데 왜 난 깨어나길 비는지 쏟아지는 빗물은 날 한치 앞도 못 보게 해 몰아치는 바람은 단 한 걸음도 못 가게 해 벼랑 끝에 서 있는 듯이 난 무서워 떨고 있지만 작은 두 손을 모은 내 기도는 하나 뿐이야 아픈 내 가슴도 깊은 상처들도 나쁜 널 미워하는데 사진을 태우고 기억을 지워도 널 잊을 수 없나 봐 사랑해 쏟아지는 빗물은 날 한치 앞도 못 보게 해 몰아치는 바람은 단 한 걸음도 못 가게 해 벼랑 끝에 서 있는 듯이 난 무서워 떨고 있지만 작은 두 손을 모은 내 기도는 하나 뿐이야 돌아와 돌아와'"
      ]
     },
     "execution_count": 3,
     "metadata": {},
     "output_type": "execute_result"
    }
   ],
   "source": [
    "song.total_lyric"
   ]
  },
  {
   "cell_type": "markdown",
   "metadata": {},
   "source": [
    "# 가수와 노래 제목 리스트가 들어있을 때 노래 가사 전부 크롤링 해오기"
   ]
  },
  {
   "cell_type": "code",
   "execution_count": 6,
   "metadata": {},
   "outputs": [
    {
     "name": "stdout",
     "output_type": "stream",
     "text": [
      "['마침표', '정거장', 'strawberry moon', 'Love poem', '느리게 하는 일', '첫 이별 그날 밤', '비밀', '벽지무늬', '너', '분홍신', '푸르던', '마음', 'Someday', '매일 그대와', '너랑 나', '무릎', '마음을 드려요', '이름에게', '이런 엔딩', 'Rain Drop', 'Into the I-LAND', '에잇(Prod.&Feat. SUGA of BTS)', '비밀의 화원', '내 손을 잡아', '이 지금', '복숭아', '가을 아침', '미운 오리', '에필로그', 'Blueming', '아이와 나의 바다', 'Celebrity', '드라마', '라일락', '어푸 (Ah puh)', '시간의 바깥', '빈 컵 (Empty Cup)', '그 사람', '자장가', '겨울잠', '봄 안녕 봄']\n"
     ]
    }
   ],
   "source": [
    "from utils.downloader import YoutubeVideoDownloader\n",
    "import os\n",
    "from utils.utils import load_lyric_url\n",
    "from collections import ChainMap\n",
    "\n",
    "#yaml 파일에 담겨있는 Color Coded Lyrics 유튜버와 노래 제목 딕셔너리\n",
    "youtuber_song_url_dict = load_lyric_url()\n",
    "\n",
    "\n",
    "song_title_url_dict = dict(ChainMap(*youtuber_song_url_dict.values()))\n",
    "song_title_list = list(song_title_url_dict.keys())\n",
    "#print(song_title_list)\n",
    "\n",
    "\n",
    "#한번에 크롤링을 다 하면 멜론에서 차단당하기 때문에 상단의 song_title_list의 결과를 소분하여 나눠서 하단의 크롤링 코드를 돌림.\n",
    "song_title_list = ['미아', '마음', '마음을 드려요', '내 손을 잡아', 'strawberry moon', '아이와 나의 바다', 'Celebrity', 'Coin', '드라마',\n",
    "'라일락', '어푸 (Ah puh)', '시간의 바깥', '빈 컵 (Empty Cup)', '그 사람', '자장가', '겨울잠', '정거장', '봄 안녕 봄', 'unlucky']"
   ]
  },
  {
   "cell_type": "code",
   "execution_count": null,
   "metadata": {},
   "outputs": [],
   "source": [
    "#9분 정도 소요. 에러 있음.\n",
    "from collections import defaultdict\n",
    "from tqdm.notebook import tqdm\n",
    "from utils.crawler import MelonCrawler\n",
    "crawler = MelonCrawler()\n",
    "singer_name = '아이유'\n",
    "crawler.search_singer(singer_name)\n",
    "artist_id = crawler.get_artist_id()\n",
    "song_id_list, initial_song_title_list, next_page_index_list = crawler.get_song_list()\n",
    "\n",
    "song_dict = defaultdict(dict)\n",
    "for target_song in tqdm(song_title_list):\n",
    "    print(target_song)\n",
    "    song = crawler.find_target_song_lyrics(target_song)\n",
    "    song_dict[song.song_title] = {'total_lyric':song.total_lyric, 'lyric_enter_segment':song.lyric_enter_segment}\n",
    "\n"
   ]
  },
  {
   "cell_type": "code",
   "execution_count": 7,
   "metadata": {},
   "outputs": [],
   "source": [
    "import pickle\n",
    "with open('./file/pickle/final_song_lyric_dict.pkl', 'rb') as f:\n",
    "    final_song_lyric_dict = pickle.load(f)"
   ]
  },
  {
   "cell_type": "code",
   "execution_count": 8,
   "metadata": {},
   "outputs": [
    {
     "data": {
      "text/plain": [
       "dict_keys(['마침표', '느리게 하는 일', '첫 이별 그날 밤', '비밀', '벽지무늬', '너', '분홍신', '푸르던', 'Someday', '매일 그대와', '너랑 나', '무릎', '이름에게', '이런 엔딩', 'Rain Drop', 'Into the I-LAND', '에잇(Prod.&Feat. SUGA of BTS)', '비밀의 화원', '이 지금', '복숭아', '가을 아침', '미운 오리', '에필로그', 'Blueming', 'Love poem', 'strawberry moon', '아이와 나의 바다', 'Celebrity', '드라마', '라일락', '어푸 (Ah puh)', '시간의 바깥', '빈 컵 (Empty Cup)', '그 사람', '자장가', '겨울잠', '정거장', '봄 안녕 봄', '마음', '내 손을 잡아', '마음을 드려요'])"
      ]
     },
     "execution_count": 8,
     "metadata": {},
     "output_type": "execute_result"
    }
   ],
   "source": [
    "final_song_lyric_dict.keys()"
   ]
  },
  {
   "cell_type": "code",
   "execution_count": 9,
   "metadata": {},
   "outputs": [
    {
     "data": {
      "text/plain": [
       "{'total_lyric': '눈을 뜨면 벽지 무늬 속 그 반복이 내 하루와 닮았어 내 방안에는 깔끔히 정리된 외로움만이 무표정한 양치질 위에 입가에 하얀 거품이 예쁜데 닦아버리면 또 다시 무표정한 사람아 내 모든 걸 그저 그렇게 만들어버린 그 하루 그 이별 그 까짓게 뭐라고 한 사람 떠난 게 뭐라고 내 모든 걸 아예 다 가져가 버리지 그랬어요 그 추억 돌아올지도 모를 그 희망까지도 신발장에 제일 예쁜 걸 고르다가 오늘도 같은 걸 예쁠 이유가 설레일 이유가 모자라서 내 모든 걸 그저 그렇게 만들어버린 그 하루 그 이별 그 까짓게 뭐라고 한 사람 떠난 게 뭐라고 내 모든 걸 아예 다 가져가 버리지 그랬어요 그 추억 돌아올지도 모를 그 희망까지도 날 안았던 가슴의 약속도 혹시 영영 못 잊을까봐 늘 불안한 조바심도 눈 감아도 벽지 무늬 속 그 반복이 내 밤의 미로 되어 같은 자리에 우두커니 서 있는 나',\n",
       " 'lyric_enter_segment': ['눈을 뜨면 벽지 무늬 속',\n",
       "  '그 반복이 내 하루와 닮았어',\n",
       "  '내 방안에는 깔끔히 정리된',\n",
       "  '외로움만이',\n",
       "  '무표정한 양치질 위에',\n",
       "  '입가에 하얀 거품이 예쁜데',\n",
       "  '닦아버리면 또 다시',\n",
       "  '무표정한 사람아',\n",
       "  '내 모든 걸',\n",
       "  '그저 그렇게 만들어버린 그 하루',\n",
       "  '그 이별 그 까짓게 뭐라고',\n",
       "  '한 사람 떠난 게 뭐라고',\n",
       "  '내 모든 걸 아예 다',\n",
       "  '가져가 버리지 그랬어요',\n",
       "  '그 추억 돌아올지도 모를',\n",
       "  '그 희망까지도',\n",
       "  '신발장에 제일 예쁜 걸',\n",
       "  '고르다가 오늘도 같은 걸',\n",
       "  '예쁠 이유가 설레일',\n",
       "  '이유가 모자라서 내 모든 걸',\n",
       "  '그저 그렇게 만들어버린 그 하루',\n",
       "  '그 이별 그 까짓게 뭐라고',\n",
       "  '한 사람 떠난 게 뭐라고',\n",
       "  '내 모든 걸 아예 다',\n",
       "  '가져가 버리지 그랬어요',\n",
       "  '그 추억 돌아올지도 모를',\n",
       "  '그 희망까지도',\n",
       "  '날 안았던 가슴의 약속도',\n",
       "  '혹시 영영 못 잊을까봐',\n",
       "  '늘 불안한 조바심도',\n",
       "  '눈 감아도 벽지 무늬 속',\n",
       "  '그 반복이 내 밤의 미로 되어',\n",
       "  '같은 자리에 우두커니 서 있는 나']}"
      ]
     },
     "execution_count": 9,
     "metadata": {},
     "output_type": "execute_result"
    }
   ],
   "source": [
    "final_song_lyric_dict['벽지무늬']"
   ]
  },
  {
   "cell_type": "code",
   "execution_count": null,
   "metadata": {},
   "outputs": [],
   "source": []
  }
 ],
 "metadata": {
  "kernelspec": {
   "display_name": "Python 3.8.10 64-bit ('3.8.10')",
   "language": "python",
   "name": "python3"
  },
  "language_info": {
   "codemirror_mode": {
    "name": "ipython",
    "version": 3
   },
   "file_extension": ".py",
   "mimetype": "text/x-python",
   "name": "python",
   "nbconvert_exporter": "python",
   "pygments_lexer": "ipython3",
   "version": "3.8.10"
  },
  "orig_nbformat": 4,
  "vscode": {
   "interpreter": {
    "hash": "c5b1b2850ff8054a76258c9831b12c7189726e2989c55e227586438bf8bddd71"
   }
  }
 },
 "nbformat": 4,
 "nbformat_minor": 2
}
