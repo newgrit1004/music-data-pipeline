{
 "cells": [
  {
   "cell_type": "code",
   "execution_count": null,
   "metadata": {},
   "outputs": [],
   "source": [
    "\"\"\"\n",
    "gray_cropped_video(Color Coded Lyrics 형식의 비디오에서 한국어 가사에 해당되는 부분만 잘라낸 뒤, gray_scale 처리한 비디오)에 들어있는 영상을 wav.file로 변환한다.\n",
    "\"\"\"\n",
    "import moviepy.editor as mp\n",
    "clip = mp.VideoFileClip(\"./gray_cropped_video/가을 아침/가을 아침.mp4\")\n",
    "clip.audio.write_audiofile(\"audio.wav\")"
   ]
  },
  {
   "cell_type": "code",
   "execution_count": 1,
   "metadata": {},
   "outputs": [],
   "source": [
    "\"\"\"\n",
    "scene_object_dict이라는 pickle 파일은 PySceneDetect와 EasyOCR을 조합하여, 가사가 바뀌는 장면을 Scene으로 정의하고,\n",
    "각 Scene은 Scene마다 Scene 시작 시간(start), Scene 끝 시간(end), EasyOCR로 검출된 가사(ocr_lyrics) 등의 정보를 담고 있다.\n",
    "Example:\n",
    "    >>> print(scene_object_dict['에필로그']\n",
    "    {'에필로그': [Scene(singer_name='아이유', song_name='에필로그', start=0.0, end=20.987654320987655, ocr_lyrics='예필로그', corrected_lyrics=None),\n",
    "    Scene(singer_name='아이유', song_name='에필로그', start=20.987654320987655, end=31.631631631631635, ocr_lyrics='나름 알게 되어서 기뻐는지 나름 사랑해서 좋아엇는지', corrected_lyrics=None),\n",
    "    Scene(singer_name='아이유', song_name='에필로그', start=31.631631631631635, end=41.70837504170838, ocr_lyrics='우리 위해 불컷던 지나간 노래들이 여전히 위로가 되는지', corrected_lyrics=None),\n",
    "    ...}\n",
    "\"\"\"\n",
    "import pickle\n",
    "with open('./file/pickle/scene_object_dict.pkl', 'rb') as f:\n",
    "    scene_object_dict = pickle.load(f)"
   ]
  },
  {
   "cell_type": "code",
   "execution_count": 13,
   "metadata": {},
   "outputs": [],
   "source": [
    "from typing import List\n",
    "from model.scene import Scene\n",
    "import re\n",
    "\n",
    "def remove_short_ocr_lyrics(scene_list:List[Scene])->List[Scene]:\n",
    "    \"\"\"OCR로 검출된 가사의 길이가 너무 짧으면 제외\"\"\"\n",
    "    return list(filter(lambda x:x.ocr_lyrics != '' and len(x.ocr_lyrics)>7, scene_list))\n",
    "\n",
    "def remove_unreadable_text(scene_list:List[Scene])->List[Scene]:\n",
    "    \"\"\"한국어로 읽기 힘든 데이터면 제외\"\"\"\n",
    "    for scene in scene_list:\n",
    "        scene.ocr_lyrics = re.sub(r\"[^\\uAC00-\\uD7A30-9a-zA-Z\\s]\", \"\", scene.ocr_lyrics)\n",
    "    return scene_list\n"
   ]
  },
  {
   "cell_type": "code",
   "execution_count": 14,
   "metadata": {},
   "outputs": [],
   "source": [
    "ocr_scene_song_dict = {key: remove_short_ocr_lyrics(remove_unreadable_text(value)) for key, value in scene_object_dict.items()}"
   ]
  }
 ],
 "metadata": {
  "kernelspec": {
   "display_name": "Python 3.8.10 64-bit ('3.8.10')",
   "language": "python",
   "name": "python3"
  },
  "language_info": {
   "codemirror_mode": {
    "name": "ipython",
    "version": 3
   },
   "file_extension": ".py",
   "mimetype": "text/x-python",
   "name": "python",
   "nbconvert_exporter": "python",
   "pygments_lexer": "ipython3",
   "version": "3.8.10"
  },
  "orig_nbformat": 4,
  "vscode": {
   "interpreter": {
    "hash": "c5b1b2850ff8054a76258c9831b12c7189726e2989c55e227586438bf8bddd71"
   }
  }
 },
 "nbformat": 4,
 "nbformat_minor": 2
}
