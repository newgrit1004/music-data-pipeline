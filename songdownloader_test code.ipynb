{
 "cells": [
  {
   "cell_type": "code",
   "execution_count": 1,
   "metadata": {},
   "outputs": [
    {
     "name": "stdout",
     "output_type": "stream",
     "text": [
      "Single song downloaded complete\n"
     ]
    }
   ],
   "source": [
    "from utils.downloader import YoutubeSongDownloader\n",
    "song_url = \"https://www.youtube.com/watch?v=YlY2CJaErdE\"\n",
    "yt = YoutubeSongDownloader(song_url)\n",
    "yt.download('download')"
   ]
  },
  {
   "cell_type": "code",
   "execution_count": 2,
   "metadata": {},
   "outputs": [
    {
     "name": "stdout",
     "output_type": "stream",
     "text": [
      "youtube mp4 to mp3 convert complete\n"
     ]
    }
   ],
   "source": [
    "from utils.converter import mp4_to_mp3\n",
    "mp4_to_mp3('download')"
   ]
  }
 ],
 "metadata": {
  "kernelspec": {
   "display_name": "Python 3.8.10 64-bit ('3.8.10')",
   "language": "python",
   "name": "python3"
  },
  "language_info": {
   "codemirror_mode": {
    "name": "ipython",
    "version": 3
   },
   "file_extension": ".py",
   "mimetype": "text/x-python",
   "name": "python",
   "nbconvert_exporter": "python",
   "pygments_lexer": "ipython3",
   "version": "3.8.10"
  },
  "orig_nbformat": 4,
  "vscode": {
   "interpreter": {
    "hash": "c5b1b2850ff8054a76258c9831b12c7189726e2989c55e227586438bf8bddd71"
   }
  }
 },
 "nbformat": 4,
 "nbformat_minor": 2
}
